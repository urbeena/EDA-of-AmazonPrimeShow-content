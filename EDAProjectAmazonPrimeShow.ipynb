{
  "nbformat": 4,
  "nbformat_minor": 0,
  "metadata": {
    "colab": {
      "private_outputs": true,
      "provenance": [],
      "collapsed_sections": [
        "448CDAPjqfQr",
        "gIfDvo9L0UH2"
      ]
    },
    "kernelspec": {
      "name": "python3",
      "display_name": "Python 3"
    },
    "language_info": {
      "name": "python"
    }
  },
  "cells": [
    {
      "cell_type": "markdown",
      "source": [
        "# **Project Name**    - Amazon Prime TV Shows and Movies\n",
        "\n"
      ],
      "metadata": {
        "id": "vncDsAP0Gaoa"
      }
    },
    {
      "cell_type": "markdown",
      "source": [
        "##### **Project Type**    - EDA\n",
        "##### **Contribution**    - Individual\n"
      ],
      "metadata": {
        "id": "beRrZCGUAJYm"
      }
    },
    {
      "cell_type": "markdown",
      "source": [
        "# **Project Summary -**"
      ],
      "metadata": {
        "id": "FJNUwmbgGyua"
      }
    },
    {
      "cell_type": "markdown",
      "source": [
        "Content analysis is extremely important for any OTT platform aiming to retain viewers and stay competitive in a crowded digital entertainment space.\n",
        "\n",
        "Amazon Prime, one of the leading streaming platforms globally, offers a diverse collection of movies and TV shows across genres, languages, and regions. With the increasing demand for personalized and high-quality content, it becomes essential to understand what types of content perform best and how user preferences evolve over time.\n",
        "\n",
        "In this project,  exploratory data analysis on Amazon Prime's content catalog is performed to uncover patterns and trends related to content type, release years, genre popularity, and viewer ratings. By analyzing these aspects, we aim to provide insights that can help drive content acquisition strategies, improve customer satisfaction, and enhance overall platform performance.\n",
        "\n",
        "This analysis will support business decisions by identifying what kind of content to prioritize, when to release it, and which genres resonate most with the audience—ultimately contributing to better engagement and retention."
      ],
      "metadata": {
        "id": "F6v_1wHtG2nS"
      }
    },
    {
      "cell_type": "markdown",
      "source": [
        "# **GitHub Link -**"
      ],
      "metadata": {
        "id": "w6K7xa23Elo4"
      }
    },
    {
      "cell_type": "markdown",
      "source": [
        "Provide your GitHub Link here."
      ],
      "metadata": {
        "id": "h1o69JH3Eqqn"
      }
    },
    {
      "cell_type": "markdown",
      "source": [
        "# **Problem Statement**\n"
      ],
      "metadata": {
        "id": "yQaldy8SH6Dl"
      }
    },
    {
      "cell_type": "markdown",
      "source": [
        "With the growing demand for personalized and high-quality content on OTT platforms, there is a need to analyze Amazon Prime's vast content library to identify trends and patterns. This project aims to explore the platform’s catalog to understand viewer preferences, content performance, and genre popularity to support better content acquisition and engagement strategies.\n",
        "\n",
        "\n",
        "\n",
        "\n",
        "\n",
        "\n",
        "\n",
        "\n"
      ],
      "metadata": {
        "id": "DpeJGUA3kjGy"
      }
    },
    {
      "cell_type": "markdown",
      "source": [
        "#### **Define Your Business Objective?**"
      ],
      "metadata": {
        "id": "PH-0ReGfmX4f"
      }
    },
    {
      "cell_type": "markdown",
      "source": [
        "Enhance user engagement and satisfaction by optimizing content offerings and recommendations on Amazon Prime Video."
      ],
      "metadata": {
        "id": "PhDvGCAqmjP1"
      }
    },
    {
      "cell_type": "markdown",
      "source": [
        "# **General Guidelines** : -  "
      ],
      "metadata": {
        "id": "mDgbUHAGgjLW"
      }
    },
    {
      "cell_type": "markdown",
      "source": [
        "1.   Well-structured, formatted, and commented code is required.\n",
        "2.   Exception Handling, Production Grade Code & Deployment Ready Code will be a plus. Those students will be awarded some additional credits.\n",
        "     \n",
        "     The additional credits will have advantages over other students during Star Student selection.\n",
        "       \n",
        "             [ Note: - Deployment Ready Code is defined as, the whole .ipynb notebook should be executable in one go\n",
        "                       without a single error logged. ]\n",
        "\n",
        "3.   Each and every logic should have proper comments.\n",
        "4. You may add as many number of charts you want. Make Sure for each and every chart the following format should be answered.\n",
        "        \n",
        "\n",
        "```\n",
        "# Chart visualization code\n",
        "```\n",
        "            \n",
        "\n",
        "*   Why did you pick the specific chart?\n",
        "*   What is/are the insight(s) found from the chart?\n",
        "* Will the gained insights help creating a positive business impact?\n",
        "Are there any insights that lead to negative growth? Justify with specific reason.\n",
        "\n",
        "5. You have to create at least 20 logical & meaningful charts having important insights.\n",
        "\n",
        "\n",
        "[ Hints : - Do the Vizualization in  a structured way while following \"UBM\" Rule.\n",
        "\n",
        "U - Univariate Analysis,\n",
        "\n",
        "B - Bivariate Analysis (Numerical - Categorical, Numerical - Numerical, Categorical - Categorical)\n",
        "\n",
        "M - Multivariate Analysis\n",
        " ]\n",
        "\n",
        "\n",
        "\n"
      ],
      "metadata": {
        "id": "ZrxVaUj-hHfC"
      }
    },
    {
      "cell_type": "markdown",
      "source": [
        "# ***Let's Begin !***"
      ],
      "metadata": {
        "id": "O_i_v8NEhb9l"
      }
    },
    {
      "cell_type": "markdown",
      "source": [
        "## ***1. Know Your Data***"
      ],
      "metadata": {
        "id": "HhfV-JJviCcP"
      }
    },
    {
      "cell_type": "markdown",
      "source": [
        "### Import Libraries"
      ],
      "metadata": {
        "id": "Y3lxredqlCYt"
      }
    },
    {
      "cell_type": "code",
      "source": [
        "# Import Libraries\n",
        "import pandas as pd\n",
        "import numpy as np\n",
        "import matplotlib.pyplot as plt\n",
        "import seaborn as sns\n",
        "import warnings\n",
        "warnings.filterwarnings('ignore')\n",
        "\n"
      ],
      "metadata": {
        "id": "M8Vqi-pPk-HR"
      },
      "execution_count": null,
      "outputs": []
    },
    {
      "cell_type": "markdown",
      "source": [
        "### Dataset Loading"
      ],
      "metadata": {
        "id": "3RnN4peoiCZX"
      }
    },
    {
      "cell_type": "code",
      "source": [
        "# Load Dataset\n",
        "from google.colab import drive\n",
        "drive.mount('/content/drive')\n",
        "\n",
        "df1 = pd.read_csv(\"/content/drive/My Drive/ Project2 dataset/titles.csv\")\n",
        "df2 = pd.read_csv(\"/content/drive/My Drive/ Project2 dataset/credits.csv\")"
      ],
      "metadata": {
        "id": "4CkvbW_SlZ_R"
      },
      "execution_count": null,
      "outputs": []
    },
    {
      "cell_type": "code",
      "source": [
        "#top 5 columns of titles dataset\n",
        "df1.head()"
      ],
      "metadata": {
        "id": "AFWRg7PSg4v4"
      },
      "execution_count": null,
      "outputs": []
    },
    {
      "cell_type": "markdown",
      "source": [
        "### Dataset First View"
      ],
      "metadata": {
        "id": "x71ZqKXriCWQ"
      }
    },
    {
      "cell_type": "code",
      "source": [
        "#top 5 columns of credits dataset\n",
        "df2.head()"
      ],
      "metadata": {
        "id": "tFndy8BAhDYd",
        "collapsed": true
      },
      "execution_count": null,
      "outputs": []
    },
    {
      "cell_type": "code",
      "source": [
        "#merge df1 and df2\n",
        "df =pd.merge(df2,df1,on='id', how=\"left\")\n"
      ],
      "metadata": {
        "id": "nKuhyfKPiDyB"
      },
      "execution_count": null,
      "outputs": []
    },
    {
      "cell_type": "markdown",
      "source": [],
      "metadata": {
        "id": "DpQKBFCRigsM"
      }
    },
    {
      "cell_type": "code",
      "source": [
        "# Dataset First Look\n",
        "df"
      ],
      "metadata": {
        "id": "LWNFOSvLl09H",
        "collapsed": true
      },
      "execution_count": null,
      "outputs": []
    },
    {
      "cell_type": "markdown",
      "source": [
        "### Variables Description\n",
        "\n",
        "**id**: The title ID on JustWatch.\n",
        "\n",
        "**title**: The name of the title.\n",
        "\n",
        "**show_type**: TV show or movie.\n",
        "\n",
        "**description**: A brief description.\n",
        "\n",
        "**release_year**: The release year.\n",
        "\n",
        "**age_certification**: The age certification.\n",
        "\n",
        "**runtime**: The length of the episode (SHOW) or movie.\n",
        "\n",
        "**genres**: A list of genres.\n",
        "\n",
        "**production_countries**: A list of countries that produced the title.\n",
        "\n",
        "**seasons**: Number of seasons if it's a SHOW.\n",
        "\n",
        "**imdb_id**: The title ID on IMDB.\n",
        "\n",
        "**imdb_score**: Score on IMDB.\n",
        "\n",
        "**imdb_votes**: Votes on IMDB\n",
        ".\n",
        "**tmdb_popularity**: Popularity on TMDB.\n",
        "\n",
        "**tmdb_score**: Score on TMDB."
      ],
      "metadata": {
        "id": "iXURvQ_VO2Ws"
      }
    },
    {
      "cell_type": "markdown",
      "source": [
        "### Dataset Rows & Columns count"
      ],
      "metadata": {
        "id": "7hBIi_osiCS2"
      }
    },
    {
      "cell_type": "code",
      "source": [
        "# Dataset Rows & Columns count\n",
        "df.shape"
      ],
      "metadata": {
        "id": "IQjFiqqmDryh"
      },
      "execution_count": null,
      "outputs": []
    },
    {
      "cell_type": "markdown",
      "source": [
        "### Dataset Information"
      ],
      "metadata": {
        "id": "JlHwYmJAmNHm"
      }
    },
    {
      "cell_type": "code",
      "source": [
        "# Dataset Info\n",
        "df.info()"
      ],
      "metadata": {
        "id": "e9hRXRi6meOf"
      },
      "execution_count": null,
      "outputs": []
    },
    {
      "cell_type": "markdown",
      "source": [
        "#### Duplicate Values"
      ],
      "metadata": {
        "id": "35m5QtbWiB9F"
      }
    },
    {
      "cell_type": "code",
      "source": [
        "# Dataset Duplicate Value Count\n",
        "print(df.duplicated().sum())"
      ],
      "metadata": {
        "id": "1sLdpKYkmox0"
      },
      "execution_count": null,
      "outputs": []
    },
    {
      "cell_type": "markdown",
      "source": [
        "Insights:\n",
        "\n",
        "There are 168 duplicate values which will be dropeed  during data wrangling"
      ],
      "metadata": {
        "id": "grcmRRG1tJ8i"
      }
    },
    {
      "cell_type": "markdown",
      "source": [
        "#### Missing Values/Null Values"
      ],
      "metadata": {
        "id": "PoPl-ycgm1ru"
      }
    },
    {
      "cell_type": "code",
      "source": [
        "df.dtypes"
      ],
      "metadata": {
        "id": "ynmrWshqlFWS"
      },
      "execution_count": null,
      "outputs": []
    },
    {
      "cell_type": "code",
      "source": [
        "# Missing Values/Null Values Count\n",
        "df.isnull().sum()"
      ],
      "metadata": {
        "id": "GgHWkxvamxVg"
      },
      "execution_count": null,
      "outputs": []
    },
    {
      "cell_type": "code",
      "source": [
        "# Visualizing the missing values\n",
        "df.replace([\"null\", \"NULL\", \"NaN\", \"None\"], np.nan, inplace=True)\n",
        "df.isnull().sum()"
      ],
      "metadata": {
        "id": "3q5wnI3om9sJ"
      },
      "execution_count": null,
      "outputs": []
    },
    {
      "cell_type": "markdown",
      "source": [
        "### What did you know about your dataset?\n",
        "This data set  lists all shows available on Amazon Prime streaming, in order to analyze the data to find interesting facts. This dataset has data available in the United States."
      ],
      "metadata": {
        "id": "H0kj-8xxnORC"
      }
    },
    {
      "cell_type": "markdown",
      "source": [
        "## ***2. Understanding Your Variables***"
      ],
      "metadata": {
        "id": "nA9Y7ga8ng1Z"
      }
    },
    {
      "cell_type": "code",
      "source": [
        "# Dataset Columns\n",
        "df.columns"
      ],
      "metadata": {
        "id": "j7xfkqrt5Ag5"
      },
      "execution_count": null,
      "outputs": []
    },
    {
      "cell_type": "code",
      "source": [
        "# Dataset statistical description for numerical columns\n",
        "\n",
        "df.describe().T\n"
      ],
      "metadata": {
        "id": "DnOaZdaE5Q5t"
      },
      "execution_count": null,
      "outputs": []
    },
    {
      "cell_type": "code",
      "source": [
        "#for categorical columns\n",
        "df.describe(include=[\"object\"]).T"
      ],
      "metadata": {
        "id": "awLVOEmSrJaa"
      },
      "execution_count": null,
      "outputs": []
    },
    {
      "cell_type": "markdown",
      "source": [
        "### Check Unique Values for each variable."
      ],
      "metadata": {
        "id": "u3PMJOP6ngxN"
      }
    },
    {
      "cell_type": "code",
      "source": [
        "# Check Unique Values for each variable.\n",
        "df.nunique()\n"
      ],
      "metadata": {
        "id": "zms12Yq5n-jE"
      },
      "execution_count": null,
      "outputs": []
    },
    {
      "cell_type": "markdown",
      "source": [
        "## 3. ***Data Wrangling***"
      ],
      "metadata": {
        "id": "dauF4eBmngu3"
      }
    },
    {
      "cell_type": "markdown",
      "source": [
        "### Data Wrangling Code"
      ],
      "metadata": {
        "id": "bKJF3rekwFvQ"
      }
    },
    {
      "cell_type": "markdown",
      "source": [
        "Step1: Handling Duplicates"
      ],
      "metadata": {
        "id": "c1vF7yJ1tcVX"
      }
    },
    {
      "cell_type": "code",
      "source": [
        "df.drop_duplicates(inplace=True)\n",
        "df.duplicated().sum()"
      ],
      "metadata": {
        "id": "CzeUV7mmtEXe"
      },
      "execution_count": null,
      "outputs": []
    },
    {
      "cell_type": "markdown",
      "source": [
        "Step2: Handling Missing Values"
      ],
      "metadata": {
        "id": "crrfv9xUtzpg"
      }
    },
    {
      "cell_type": "code",
      "source": [
        "df.isnull().sum()"
      ],
      "metadata": {
        "id": "SeIfW7uwthoe",
        "collapsed": true
      },
      "execution_count": null,
      "outputs": []
    },
    {
      "cell_type": "code",
      "source": [
        "#datatype: object\n",
        "df['character'].mode()\n",
        "#Fill missing character with 'Unknown' (common in cast data)\n",
        "df['character'].fillna('Himself', inplace=True)\n",
        "df.isnull().sum()"
      ],
      "metadata": {
        "id": "mJqJvMnAPUyv"
      },
      "execution_count": null,
      "outputs": []
    },
    {
      "cell_type": "code",
      "source": [
        "#description: datatye->\tobject\n",
        "df[\"description\"].count()"
      ],
      "metadata": {
        "id": "vKUOULJwuECt"
      },
      "execution_count": null,
      "outputs": []
    },
    {
      "cell_type": "markdown",
      "source": [
        "Insights:"
      ],
      "metadata": {
        "id": "DQHfxFPKthrF"
      }
    },
    {
      "cell_type": "markdown",
      "source": [
        "91 rows is a very small fraction (~0.15%)—dropping them won’t affect overall data quality."
      ],
      "metadata": {
        "id": "3q2pB77UvDBb"
      }
    },
    {
      "cell_type": "code",
      "source": [
        "df.dropna(subset=[\"description\"],inplace=True)\n",
        "df.isnull().sum()"
      ],
      "metadata": {
        "id": "gGpDRSGXvFf6",
        "collapsed": true
      },
      "execution_count": null,
      "outputs": []
    },
    {
      "cell_type": "code",
      "source": [
        "# age_certification:datatype\t->object\n",
        "df[\"age_certification\"].mode()"
      ],
      "metadata": {
        "id": "lmkYGL2RwEIo"
      },
      "execution_count": null,
      "outputs": []
    },
    {
      "cell_type": "code",
      "source": [
        "df[\"age_certification\"].fillna(\"R\",inplace=True)\n",
        "df.isnull().sum()"
      ],
      "metadata": {
        "id": "noULdUX4wMJg",
        "collapsed": true
      },
      "execution_count": null,
      "outputs": []
    },
    {
      "cell_type": "code",
      "source": [
        "#seasons:datatype:>\tfloat64\n",
        "df[\"seasons\"].skew() #  data is positively skewed( Right Skwed)"
      ],
      "metadata": {
        "id": "RVKIoxdBwcFi"
      },
      "execution_count": null,
      "outputs": []
    },
    {
      "cell_type": "code",
      "source": [
        "df[\"seasons\"].median()"
      ],
      "metadata": {
        "id": "saqpcxZ4w_Lq"
      },
      "execution_count": null,
      "outputs": []
    },
    {
      "cell_type": "code",
      "source": [
        "df[\"seasons\"].fillna(df[\"seasons\"].median(),inplace=True)\n",
        "df.isnull().sum()"
      ],
      "metadata": {
        "id": "_xolMH8WwvTt",
        "collapsed": true
      },
      "execution_count": null,
      "outputs": []
    },
    {
      "cell_type": "code",
      "source": [
        "df.dtypes"
      ],
      "metadata": {
        "id": "4u-WxCLIOKnj"
      },
      "execution_count": null,
      "outputs": []
    },
    {
      "cell_type": "code",
      "source": [
        "#datatype: object\n",
        "df['imdb_id'].count()"
      ],
      "metadata": {
        "id": "pGU2xbG7OTc_"
      },
      "execution_count": null,
      "outputs": []
    },
    {
      "cell_type": "code",
      "source": [
        "#imdb_id\tdatatype:object\n",
        "# Replace missing 'imdb_id' values with unknown\n",
        "# as the imdb id is unique fro everone we can not fill it with mode so better is to fill with unknown\n",
        "df['imdb_id'].fillna('unknown', inplace=True)\n",
        "df.isnull().sum()"
      ],
      "metadata": {
        "id": "jW2jQNu6iaCg",
        "collapsed": true
      },
      "execution_count": null,
      "outputs": []
    },
    {
      "cell_type": "code",
      "source": [
        "#datatype: float64\n",
        "df[\"imdb_score\"].skew()"
      ],
      "metadata": {
        "id": "UxrFipGrOorU"
      },
      "execution_count": null,
      "outputs": []
    },
    {
      "cell_type": "code",
      "source": [
        "plt.figure(figsize=(10,5))\n",
        "sns.histplot(df,x='imdb_score',bins=20,kde=True)\n",
        "plt.show()"
      ],
      "metadata": {
        "id": "HsrfSIlrO1mN"
      },
      "execution_count": null,
      "outputs": []
    },
    {
      "cell_type": "code",
      "source": [
        "# we can replace with mean  here as  data is slightly left skewed whichb is nearly equal to = 0.5\n",
        "\n",
        "# Replace missing 'imdb_score' values with the mean\n",
        "df['imdb_score'].fillna(df['imdb_score'].mean(), inplace=True)\n",
        "df.isnull().sum()\n"
      ],
      "metadata": {
        "id": "NzWrGYFX-CrD",
        "collapsed": true
      },
      "execution_count": null,
      "outputs": []
    },
    {
      "cell_type": "code",
      "source": [
        "#df['imdb_votes'] ->float\n",
        "df['imdb_votes'].skew()"
      ],
      "metadata": {
        "id": "2ZPU8MINREYp"
      },
      "execution_count": null,
      "outputs": []
    },
    {
      "cell_type": "code",
      "source": [
        "# Fill with median\n",
        "df['imdb_votes'].fillna(df['imdb_votes'].median(), inplace=True)\n",
        "df.isnull().sum()"
      ],
      "metadata": {
        "id": "IqYBmXxl_Qhd",
        "collapsed": true
      },
      "execution_count": null,
      "outputs": []
    },
    {
      "cell_type": "code",
      "source": [
        "\n",
        "#we can drop it too there are only 13 misssing values\n",
        "df.dropna(subset=['tmdb_popularity'],inplace =True)\n",
        "df.isnull().sum()\n"
      ],
      "metadata": {
        "id": "4tWP0FKA_y5P",
        "collapsed": true
      },
      "execution_count": null,
      "outputs": []
    },
    {
      "cell_type": "code",
      "source": [
        "df['tmdb_score'].skew()"
      ],
      "metadata": {
        "id": "NgUWzSAwRT5F"
      },
      "execution_count": null,
      "outputs": []
    },
    {
      "cell_type": "code",
      "source": [
        "#check distribution using histogram\n",
        "plt.figure(figsize=(10,5))\n",
        "sns.histplot(df,x='tmdb_score',bins=20,kde=True)\n",
        "plt.show()"
      ],
      "metadata": {
        "id": "S5atU0S2RZgp",
        "collapsed": true
      },
      "execution_count": null,
      "outputs": []
    },
    {
      "cell_type": "code",
      "source": [
        "#the histogram shows data is distributed evenly\n",
        "#Fill missing tmdb_score with mean\n",
        "df['tmdb_score'].fillna(df['tmdb_score'].mean(), inplace=True)\n",
        "df.isnull().sum()"
      ],
      "metadata": {
        "id": "iSkxYb7bADR9",
        "collapsed": true
      },
      "execution_count": null,
      "outputs": []
    },
    {
      "cell_type": "markdown",
      "source": [
        "### What all manipulations have you done and insights you found?\n",
        "* The dataset initially contained 168 duplicate entries, which were removed using the drop_duplicates() method.\n",
        "\n",
        "* Several columns had missing values, which were handled as follows :\n",
        "\n",
        " - 'tmdb_popularity' and 'description' columns had missing values and were dropped from the dataset.\n",
        "\n",
        " - Categorical columns such as 'age_certification' and 'character' (object types) had missing values that were filled using the mode.\n",
        "\n",
        " - Numerical columns like 'seasons' and 'imdb_votes', which were skewed, had their missing values filled using the median .\n",
        "\n",
        " - For columns like 'imdb_score' and 'tmdb_score', which followed a normal distribution, missing values were imputed using the mean."
      ],
      "metadata": {
        "id": "MSa1f5Uengrz"
      }
    },
    {
      "cell_type": "code",
      "source": [
        "#numerical columns\n",
        "numeric_cols= df.select_dtypes(include=['int64','float64'])\n",
        "numeric_cols"
      ],
      "metadata": {
        "id": "F-o25NpN_kvt"
      },
      "execution_count": null,
      "outputs": []
    },
    {
      "cell_type": "code",
      "source": [
        "##categorical columns\n",
        "categorical_cols= df.select_dtypes(include=['object'])\n",
        "categorical_cols"
      ],
      "metadata": {
        "collapsed": true,
        "id": "C1XA8EBx_q3U"
      },
      "execution_count": null,
      "outputs": []
    },
    {
      "cell_type": "markdown",
      "source": [
        "## ***4. Data Vizualization, Storytelling & Experimenting with charts : Understand the relationships between variables***"
      ],
      "metadata": {
        "id": "GF8Ens_Soomf"
      }
    },
    {
      "cell_type": "code",
      "source": [
        "df.head()"
      ],
      "metadata": {
        "id": "Qycv6E4e3v5K"
      },
      "execution_count": null,
      "outputs": []
    },
    {
      "cell_type": "markdown",
      "source": [
        "#### Chart - 1\n",
        "## Histogram"
      ],
      "metadata": {
        "id": "0wOQAZs5pc--"
      }
    },
    {
      "cell_type": "markdown",
      "source": [
        "**visualize the distribution of content releases**"
      ],
      "metadata": {
        "id": "gl19coXrOx6e"
      }
    },
    {
      "cell_type": "code",
      "source": [
        "plt.figure(figsize=(10,5))\n",
        "sns.histplot(df,x='release_year',bins=20,kde=True)\n",
        "plt.show()"
      ],
      "metadata": {
        "id": "R6r4SwG4EWx_"
      },
      "execution_count": null,
      "outputs": []
    },
    {
      "cell_type": "markdown",
      "source": [
        "##### 1. Why did you pick the specift visually emphasizes proportions of each category as slices"
      ],
      "metadata": {
        "id": "K5QZ13OEpz2H"
      }
    },
    {
      "cell_type": "markdown",
      "source": [
        "We selected  histogram of Release_Year to clearly show the distribution of movie release years over time. It effectively highlights patterns, such as the increase in recent releases and the left-skewed nature of the data."
      ],
      "metadata": {
        "id": "XESiWehPqBRc"
      }
    },
    {
      "cell_type": "markdown",
      "source": [
        "##### 2. What is/are the insight(s) found from the chart?"
      ],
      "metadata": {
        "id": "lQ7QKXXCp7Bj"
      }
    },
    {
      "cell_type": "markdown",
      "source": [
        "The distribution of movie release years is left-skewed (skewness = -1.14), meaning a few very old movies pull the average earlier.\n",
        "\n",
        "Most movies were released between 2010 and 2022, with a peak around 2020.\n",
        "\n",
        "Mean release year is 1996, but this is lower than the median (2009) due to the influence of older movies (as early as 1912).\n",
        "\n",
        "Movie production was low before 1960, then steadily increased, with a major boom after 2000.\n",
        "\n",
        "The surge in recent releases reflects the growth of digital platforms and filmmaking technology."
      ],
      "metadata": {
        "id": "C_j1G7yiqdRP"
      }
    },
    {
      "cell_type": "markdown",
      "source": [
        "##### 3. Will the gained insights help creating a positive business impact?\n",
        " Movies involving actors show greater variability in runtimes, reflecting diverse content that can attract a wider audience and enhance recommendation systems.However excessive runtimes may lower viewer engagement, highlighting the need to balance creativity with audience viewing habits.\n",
        "\n",
        "\n",
        "\n",
        "\n",
        "\n",
        "\n",
        "\n",
        "\n"
      ],
      "metadata": {
        "id": "448CDAPjqfQr"
      }
    },
    {
      "cell_type": "markdown",
      "source": [
        "#### Chart - 2\n",
        "Histogran"
      ],
      "metadata": {
        "id": "KSlN3yHqYklG"
      }
    },
    {
      "cell_type": "markdown",
      "source": [
        "**illustrate the distribution of runtimes across various types of content**"
      ],
      "metadata": {
        "id": "QO5rrJIbRITi"
      }
    },
    {
      "cell_type": "code",
      "source": [
        "plt.figure(figsize=(10,5))\n",
        "fig=sns.histplot(df,x='runtime',bins=20,kde=True,color = \"green\")\n",
        "\n",
        "# Iterate through patches (bars) in the histogram\n",
        "for p in fig.patches:\n",
        "  # Get x and y coordinates for text placement\n",
        "  x = p.get_x() + p.get_width() / 2\n",
        "  y = p.get_height()\n",
        "  # Add text label with count\n",
        "  fig.text(x, y, f\"{int(y)}\", ha=\"center\", va=\"bottom\")\n",
        "plt.show()"
      ],
      "metadata": {
        "id": "zVv6bC1nEm0f"
      },
      "execution_count": null,
      "outputs": []
    },
    {
      "cell_type": "markdown",
      "source": [
        "##### 1. Why did you pick the specific chart?\n",
        "We selected the histogram  to effectively show the distribution of movie runtimes. This helps in understanding how most movies vary in length, revealing patterns and outliers in terms of time."
      ],
      "metadata": {
        "id": "t6dVpIINYklI"
      }
    },
    {
      "cell_type": "markdown",
      "source": [
        "##### 2. What is/are the insight(s) found from the chart?\n",
        "* Most of the movies  have runtime between 80 to  120 minutes\n",
        "*  A very few movies are of 180 minutes\n",
        "*  There are few movies whicih execeede more than 500 minutes indicating outliers\n",
        "* The distribution is Right-Skewwed , indicating a small number of long- duration movies"
      ],
      "metadata": {
        "id": "ijmpgYnKYklI"
      }
    },
    {
      "cell_type": "markdown",
      "source": [
        "##### 3. Will the gained insights help creating a positive business impact?\n",
        "Are there any insights that lead to negative growth? Justify with specific reason.\n",
        "\n",
        "The chart reveals that most movies have runtimes between 80–120 minutes, helping businesses tailor content accordingly. Long-duration movies are rare and could lead to poor performance if not strategically planned. This data-driven insight supports informed decisions in production and distribution for better audience engagement and profitability."
      ],
      "metadata": {
        "id": "-JiQyfWJYklI"
      }
    },
    {
      "cell_type": "markdown",
      "source": [
        "#### Chart - 3\n",
        "Box Plot\n",
        "\n",
        " **Check if there are any movies whose durantion is very far than other movies in  Runtime**"
      ],
      "metadata": {
        "id": "EM7whBJCYoAo"
      }
    },
    {
      "cell_type": "code",
      "source": [
        "#box plot to check any outlier in runtime\n",
        "plt.figure(figsize=(10,6))\n",
        "sns.boxplot(df, x = 'runtime', color='lightgreen')\n",
        "plt.title(\"Box Plot of Runtime\")\n",
        "plt.show()"
      ],
      "metadata": {
        "id": "nUIRPlDUNHhG"
      },
      "execution_count": null,
      "outputs": []
    },
    {
      "cell_type": "markdown",
      "source": [
        "##### 1. Why did you pick the specific chart?\n",
        " The box plot clearly highlights if any movies have significantly longer or shorter durations compared to others"
      ],
      "metadata": {
        "id": "fge-S5ZAYoAp"
      }
    },
    {
      "cell_type": "markdown",
      "source": [
        "Answer Here."
      ],
      "metadata": {
        "id": "5dBItgRVYoAp"
      }
    },
    {
      "cell_type": "markdown",
      "source": [
        "##### 2. What is/are the insight(s) found from the chart?\n",
        "* There are several outliers—movies with runtimes significantly higher than the rest, exceeding 300 minutes, and some even above 500 minutes."
      ],
      "metadata": {
        "id": "85gYPyotYoAp"
      }
    },
    {
      "cell_type": "markdown",
      "source": [
        "Answer Here"
      ],
      "metadata": {
        "id": "4jstXR6OYoAp"
      }
    },
    {
      "cell_type": "markdown",
      "source": [
        "##### 3. Will the gained insights help creating a positive business impact?\n",
        "Are there any insights that lead to negative growth? Justify with specific reason."
      ],
      "metadata": {
        "id": "RoGjAbkUYoAp"
      }
    },
    {
      "cell_type": "markdown",
      "source": [
        "* Extremely long movies might need to be marketed differently, or split into parts/series for better user engagement.\n",
        "\n",
        "* However, if such long runtimes are not aligned with audience preferences, promoting them heavily might lead to negative growth, such as decreased engagement or higher bounce rates."
      ],
      "metadata": {
        "id": "zfJ8IqMcYoAp"
      }
    },
    {
      "cell_type": "markdown",
      "source": [
        "#### Chart - 4\n",
        "PIE PLOT\n"
      ],
      "metadata": {
        "id": "4Of9eVA-YrdM"
      }
    },
    {
      "cell_type": "markdown",
      "source": [
        "**show the proportion of each content type.**"
      ],
      "metadata": {
        "id": "MuoCYPZZRxsQ"
      }
    },
    {
      "cell_type": "code",
      "source": [
        "type_counts = df['type'].value_counts()\n",
        "type_counts"
      ],
      "metadata": {
        "id": "tyVtJyK71fn_"
      },
      "execution_count": null,
      "outputs": []
    },
    {
      "cell_type": "code",
      "source": [
        "#find unique values\n",
        "df['type'].unique()"
      ],
      "metadata": {
        "id": "ut7hados1rRT"
      },
      "execution_count": null,
      "outputs": []
    },
    {
      "cell_type": "code",
      "source": [
        "type_counts = df['type'].value_counts()\n",
        "plt.pie(type_counts, labels=type_counts.index, autopct='%1.1f%%')\n",
        "plt.title(\"Distribution of Content Type\")\n",
        "plt.axis('equal')\n",
        "plt.show()\n"
      ],
      "metadata": {
        "id": "WOJt26G6y9_N"
      },
      "execution_count": null,
      "outputs": []
    },
    {
      "cell_type": "markdown",
      "source": [
        "##### 1. Why did you pick the specific chart?\n",
        "selected  the pie chart to visually represent the proportion of each content type in the dataset, making it easier to compare the distribution between \"Movie\" and \"Show.\""
      ],
      "metadata": {
        "id": "iky9q4vBYrdO"
      }
    },
    {
      "cell_type": "markdown",
      "source": [
        "Answer Here."
      ],
      "metadata": {
        "id": "aJRCwT6DYrdO"
      }
    },
    {
      "cell_type": "markdown",
      "source": [
        "##### 2. What is/are the insight(s) found from the chart?"
      ],
      "metadata": {
        "id": "F6T5p64dYrdO"
      }
    },
    {
      "cell_type": "markdown",
      "source": [
        "* The chart reveals that Movies make up 93.3% of the content, while Shows account for only 6.7%.\n",
        "* This indicates a significant dominance of movie content in the dataset."
      ],
      "metadata": {
        "id": "Xx8WAJvtYrdO"
      }
    },
    {
      "cell_type": "markdown",
      "source": [
        "##### 3. Will the gained insights help creating a positive business impact?\n",
        "Are there any insights that lead to negative growth? Justify with specific reason."
      ],
      "metadata": {
        "id": "y-Ehk30pYrdP"
      }
    },
    {
      "cell_type": "markdown",
      "source": [
        " * Knowing that movies dominate the platform can help content strategists and marketers focus their efforts on optimizing movie-related content, improving recommendations, and attracting more viewers interested in movies.\n",
        "\n",
        "* However, the lack of shows (only 6.7%) could be a point of concern. It might indicate a content gap that, if not addressed, could lead to negative growth by losing potential viewers who prefer watching series or episodic content. This insight can guide the business to consider expanding its show library to cater to a broader audience and improve user retention."
      ],
      "metadata": {
        "id": "jLNxxz7MYrdP"
      }
    },
    {
      "cell_type": "markdown",
      "source": [
        "#### Chart - 5"
      ],
      "metadata": {
        "id": "bamQiAODYuh1"
      }
    },
    {
      "cell_type": "markdown",
      "source": [
        "PIE CHART"
      ],
      "metadata": {
        "id": "9FGzESRA0ohV"
      }
    },
    {
      "cell_type": "markdown",
      "source": [
        "**show the proportion of different roles .**"
      ],
      "metadata": {
        "id": "08bycJ-f0qHb"
      }
    },
    {
      "cell_type": "code",
      "source": [
        "plt.figure(figsize=(10, 6))\n",
        "plt.pie(df[\"role\"].value_counts(), labels =df[\"role\"].value_counts().index,autopct = \"%1.1f%%\")\n",
        "plt.show()"
      ],
      "metadata": {
        "id": "l0EIQzzSvlZO"
      },
      "execution_count": null,
      "outputs": []
    },
    {
      "cell_type": "markdown",
      "source": [
        "##### 1. Why did you pick the specific chart?"
      ],
      "metadata": {
        "id": "QHF8YVU7Yuh3"
      }
    },
    {
      "cell_type": "markdown",
      "source": [
        " selected  pie chart  to visually represent the  proportion of different roles in the dataset (e.g., Actor, Director, Unknown)."
      ],
      "metadata": {
        "id": "dcxuIMRPYuh3"
      }
    },
    {
      "cell_type": "markdown",
      "source": [
        "##### 2. What is/are the insight(s) found from the chart?"
      ],
      "metadata": {
        "id": "GwzvFGzlYuh3"
      }
    },
    {
      "cell_type": "markdown",
      "source": [
        "* The majority of entries in the dataset are for the role \"ACTOR\" (92.6%), which heavily dominates the dataset.\n",
        "\n",
        "* \"DIRECTOR\" roles make up a much smaller percentage (6.7%).\n",
        "\n"
      ],
      "metadata": {
        "id": "uyqkiB8YYuh3"
      }
    },
    {
      "cell_type": "markdown",
      "source": [
        "##### 3. Will the gained insights help creating a positive business impact?\n",
        "Are there any insights that lead to negative growth? Justify with specific reason."
      ],
      "metadata": {
        "id": "qYpmQ266Yuh3"
      }
    },
    {
      "cell_type": "markdown",
      "source": [
        "The chart reveals a strong focus on actors, enabling targeted marketing and actor-centric strategies.\n",
        "However, limited data on other roles may cause biased insights and missed opportunities.\n",
        "Balancing the dataset can lead to more comprehensive and inclusive business decisions."
      ],
      "metadata": {
        "id": "_WtzZ_hCYuh4"
      }
    },
    {
      "cell_type": "markdown",
      "source": [
        "#### Chart - 6\n",
        "COUNT PLOT\n",
        "\n",
        "**How many records belong to each certification category**"
      ],
      "metadata": {
        "id": "OH-pJp9IphqM"
      }
    },
    {
      "cell_type": "code",
      "source": [
        "plt.figure(figsize=(10,6))\n",
        "sns.countplot(data =df, x=\"age_certification\", palette ='viridis')\n",
        "plt.show()"
      ],
      "metadata": {
        "id": "BJzyYFk_yHQ-"
      },
      "execution_count": null,
      "outputs": []
    },
    {
      "cell_type": "markdown",
      "source": [
        "##### 1. Why did you pick the specific chart?"
      ],
      "metadata": {
        "id": "bbFf2-_FphqN"
      }
    },
    {
      "cell_type": "markdown",
      "source": [
        "age_certification contains discrete categories (like R, PG, G, etc.), a count plot provides a clear and immediate understanding of how many records belong to each certification category."
      ],
      "metadata": {
        "id": "loh7H2nzphqN"
      }
    },
    {
      "cell_type": "markdown",
      "source": [
        "##### 2. What is/are the insight(s) found from the chart?"
      ],
      "metadata": {
        "id": "_ouA3fa0phqN"
      }
    },
    {
      "cell_type": "markdown",
      "source": [
        "* The 'R' (Restricted) certification has the highest number of entries by a large margin, followed by 'PG-13' and 'PG'.\n",
        "\n",
        "* Certifications like 'TV-Y7', 'NC-17', 'TV-14', 'TV-MA', and 'TV-Y' have very few entries, indicating they are underrepresented.\n",
        "\n",
        "* There is a notable imbalance in the distribution of age certifications in the dataset."
      ],
      "metadata": {
        "id": "VECbqPI7phqN"
      }
    },
    {
      "cell_type": "markdown",
      "source": [
        "##### 3. Will the gained insights help creating a positive business impact?\n",
        "Are there any insights that lead to negative growth? Justify with specific reason."
      ],
      "metadata": {
        "id": "Seke61FWphqN"
      }
    },
    {
      "cell_type": "markdown",
      "source": [
        "The chart reveals a heavy focus on 'R' rated content, which supports mature audience engagement but limits appeal to younger viewers. This creates an opportunity to diversify content for broader reach while highlighting a risk of alienating family-friendly segments. Balancing age certifications can drive positive business growth."
      ],
      "metadata": {
        "id": "DW4_bGpfphqN"
      }
    },
    {
      "cell_type": "markdown",
      "source": [
        "###  **BIVARIATE ANALYSIS**\n",
        "\n",
        "Analyzes the relationship between two variables.\n",
        "1.  **Numerical vs. Numerical:**\n",
        "- Scatter Plot\n",
        "2.  **Numerical vs. Date:**\n",
        "- Line Chart\n",
        "3.  **Categorical vs. Numerical:**\n",
        "\n",
        "- Bar Chart\n",
        "- Box Plot"
      ],
      "metadata": {
        "id": "6iEq84AivQ1o"
      }
    },
    {
      "cell_type": "markdown",
      "source": [
        "#### Chart - 7\n"
      ],
      "metadata": {
        "id": "PIIx-8_IphqN"
      }
    },
    {
      "cell_type": "markdown",
      "source": [
        "Scatter Plot"
      ],
      "metadata": {
        "id": "3UUZi6FJvP71"
      }
    },
    {
      "cell_type": "markdown",
      "source": [
        "**how imdb popularity are dependent on  release year**"
      ],
      "metadata": {
        "id": "YypeNt64n1c5"
      }
    },
    {
      "cell_type": "code",
      "source": [
        "plt.figure(figsize=(10,5))\n",
        "sns.scatterplot(data=df, x='release_year', y='tmdb_popularity')\n",
        "plt.show()"
      ],
      "metadata": {
        "id": "HOV2xjawonSS"
      },
      "execution_count": null,
      "outputs": []
    },
    {
      "cell_type": "markdown",
      "source": [
        "##### 1. Why did you pick the specific chart?"
      ],
      "metadata": {
        "id": "t27r6nlMphqO"
      }
    },
    {
      "cell_type": "markdown",
      "source": [
        "A scatter plot clearly shows the relationship between release year and TMDB popularity, helping to identify trends and outliers over time."
      ],
      "metadata": {
        "id": "iv6ro40sphqO"
      }
    },
    {
      "cell_type": "markdown",
      "source": [
        "##### 2. What is/are the insight(s) found from the chart?"
      ],
      "metadata": {
        "id": "r2jJGEOYphqO"
      }
    },
    {
      "cell_type": "markdown",
      "source": [
        "* There is a noticeable increase in TMDB popularity for movies released after the year 2000, especially after 2010.\n",
        "\n",
        "* Most movies released before 1980 have relatively lower popularity scores, indicating limited audience engagement or data availability.\n",
        "\n",
        "* The chart shows a few very high popularity outliers in recent years, which might be blockbuster hits or highly marketed releases."
      ],
      "metadata": {
        "id": "Po6ZPi4hphqO"
      }
    },
    {
      "cell_type": "markdown",
      "source": [
        "##### 3. Will the gained insights help creating a positive business impact?\n",
        "Are there any insights that lead to negative growth? Justify with specific reason."
      ],
      "metadata": {
        "id": "b0JNsNcRphqO"
      }
    },
    {
      "cell_type": "markdown",
      "source": [
        "Focus on newer movies can drive more user engagement and platform growth.\n",
        "\n",
        "Relying too much on older, less popular movies without promotion may negatively impact viewer interest."
      ],
      "metadata": {
        "id": "xvSq8iUTphqO"
      }
    },
    {
      "cell_type": "markdown",
      "source": [],
      "metadata": {
        "id": "_YKTtEkhvM_V"
      }
    },
    {
      "cell_type": "markdown",
      "source": [
        "#### Chart - 8"
      ],
      "metadata": {
        "id": "BZR9WyysphqO"
      }
    },
    {
      "cell_type": "markdown",
      "source": [
        "SCATTER PLOT\n",
        "\n",
        "**Analyze how TMDB popularity correlates with TMDB score.**"
      ],
      "metadata": {
        "id": "6FPmE_BlRDR8"
      }
    },
    {
      "cell_type": "code",
      "source": [
        "plt.figure(figsize=(10,5))\n",
        "sns.scatterplot(data=df, x='tmdb_score', y='tmdb_popularity')\n",
        "plt.show()"
      ],
      "metadata": {
        "id": "3rJzpkbP9gkp"
      },
      "execution_count": null,
      "outputs": []
    },
    {
      "cell_type": "markdown",
      "source": [
        "##### 1. Why did you pick the specific chart?"
      ],
      "metadata": {
        "id": "jj7wYXLtphqO"
      }
    },
    {
      "cell_type": "markdown",
      "source": [
        " scatter plot was selected to show relationship between TMDb score (a measure of quality) and TMDb popularity (a measure of audience engagement). A scatter plot shows relationship between two variable and the trend between them"
      ],
      "metadata": {
        "id": "Ob8u6rCTphqO"
      }
    },
    {
      "cell_type": "markdown",
      "source": [
        "##### 2. What is/are the insight(s) found from the chart?"
      ],
      "metadata": {
        "id": "eZrbJ2SmphqO"
      }
    },
    {
      "cell_type": "markdown",
      "source": [
        "* Most titles with high TMDb popularity tend to have moderate to low TMDb scores.\n",
        "\n",
        "* Titles with very high TMDb scores do not necessarily have high popularity, indicating that critical acclaim doesn't always correlate with mass appeal.\n",
        "\n",
        "*A few outliers have exceptionally high popularity regardless of their score."
      ],
      "metadata": {
        "id": "mZtgC_hjphqO"
      }
    },
    {
      "cell_type": "markdown",
      "source": [
        "##### 3. Will the gained insights help creating a positive business impact?\n",
        "Are there any insights that lead to negative growth? Justify with specific reason."
      ],
      "metadata": {
        "id": "rFu4xreNphqO"
      }
    },
    {
      "cell_type": "markdown",
      "source": [
        "The chart shows that higher popularity doesn't always align with high TMDb scores, revealing audience preference for entertainment over critical acclaim. This suggests an opportunity to invest in engaging content, even if not highly rated. Balancing quality with popularity can optimize viewer satisfaction and drive business growth."
      ],
      "metadata": {
        "id": "ey_0qi68phqO"
      }
    },
    {
      "cell_type": "markdown",
      "source": [
        "#### Chart - 9"
      ],
      "metadata": {
        "id": "YJ55k-q6phqO"
      }
    },
    {
      "cell_type": "markdown",
      "source": [
        "SCATTER PLOT\n",
        "\n",
        "**What is the relationship between movie runtime and the number of votes received?**"
      ],
      "metadata": {
        "id": "0_BHTar-R3Zj"
      }
    },
    {
      "cell_type": "code",
      "source": [
        "plt.figure(figsize=(10,5))\n",
        "sns.scatterplot(data=df, x='runtime', y='imdb_votes')\n",
        "plt.show()"
      ],
      "metadata": {
        "id": "yX3BNF7fvzcc"
      },
      "execution_count": null,
      "outputs": []
    },
    {
      "cell_type": "markdown",
      "source": [
        "##### 1. Why did you pick the specific chart?"
      ],
      "metadata": {
        "id": "gCFgpxoyphqP"
      }
    },
    {
      "cell_type": "markdown",
      "source": [
        "The scatterplot was chosen to visually analyze the relationship between a movie's runtime and the number of IMDb votes it received. This helps identify patterns or trends that could influence viewer engagement."
      ],
      "metadata": {
        "id": "TVxDimi2phqP"
      }
    },
    {
      "cell_type": "markdown",
      "source": [
        "##### 2. What is/are the insight(s) found from the chart?"
      ],
      "metadata": {
        "id": "OVtJsKN_phqQ"
      }
    },
    {
      "cell_type": "markdown",
      "source": [
        "* Maxmimum movies have runtime  between 50 to 180 minutes\n",
        "* These movies having runtime between this range  tend to have more imdb votes as compared to very short and very long movies\n",
        "* Extremely long runtimes (above 200 mins) do not consistently receive high votes, suggesting diminishing audience interest or limited viewership.\n",
        "\n"
      ],
      "metadata": {
        "id": "ngGi97qjphqQ"
      }
    },
    {
      "cell_type": "markdown",
      "source": [
        "##### 3. Will the gained insights help creating a positive business impact?\n",
        "Are there any insights that lead to negative growth? Justify with specific reason."
      ],
      "metadata": {
        "id": "lssrdh5qphqQ"
      }
    },
    {
      "cell_type": "markdown",
      "source": [
        "The chart shows that movies with runtimes between 80–150 minutes attract more IMDb votes, revealing a great spot in audience engagement. Extremely short or long movies tend to be less popular, highlighting that length impacts viewership. Investing in content within the ideal runtime range can boost user satisfaction and support business growth by aligning with audience preferences."
      ],
      "metadata": {
        "id": "tBpY5ekJphqQ"
      }
    },
    {
      "cell_type": "markdown",
      "source": [
        "### Chart 10\n"
      ],
      "metadata": {
        "id": "SGWjnJca1S_y"
      }
    },
    {
      "cell_type": "markdown",
      "source": [
        "LINE CHART\n",
        "\n",
        "**Show how the number of TV show seasons has changed over the years.**"
      ],
      "metadata": {
        "id": "LsA3zCKFSN-k"
      }
    },
    {
      "cell_type": "code",
      "source": [
        "plt.figure(figsize=(10,5))\n",
        "sns.lineplot(data=df, x='release_year', y='seasons',color=\"green\")\n",
        "plt.show()"
      ],
      "metadata": {
        "id": "UYKkZm2RwAEW"
      },
      "execution_count": null,
      "outputs": []
    },
    {
      "cell_type": "markdown",
      "source": [
        "##### 1. Why did you pick the specific chart?"
      ],
      "metadata": {
        "id": "1M8mcRywphqQ"
      }
    },
    {
      "cell_type": "markdown",
      "source": [
        "This line plot was selected to visualize the trend of average TV show seasons over the years. It helps track how the number of seasons has evolved from the early 1900s to recent years."
      ],
      "metadata": {
        "id": "8agQvks0phqQ"
      }
    },
    {
      "cell_type": "markdown",
      "source": [
        "##### 2. What is/are the insight(s) found from the chart?"
      ],
      "metadata": {
        "id": "tgIPom80phqQ"
      }
    },
    {
      "cell_type": "markdown",
      "source": [
        "* From 1920 to 1940 average number of seasons remained relatively stable\n",
        "* The chart shows a rise in the average number of TV show seasons peaking around 2000, followed by a sharp decline after 2015, indicating more audience engagement towards less seasons"
      ],
      "metadata": {
        "id": "Qp13pnNzphqQ"
      }
    },
    {
      "cell_type": "markdown",
      "source": [
        "##### 3. Will the gained insights help creating a positive business impact?\n",
        "Are there any insights that lead to negative growth? Justify with specific reason."
      ],
      "metadata": {
        "id": "JMzcOPDDphqR"
      }
    },
    {
      "cell_type": "markdown",
      "source": [
        "The chart shows a rise in the average number of TV show seasons peaking around 2000, followed by a sharp decline after 2015. This suggests a shift toward shorter series, likely due to changing audience preferences and streaming trends. The insights can help businesses adapt content strategies for better engagement and cost efficiency."
      ],
      "metadata": {
        "id": "R4Ka1PC2phqR"
      }
    },
    {
      "cell_type": "markdown",
      "source": [
        "### chart 11"
      ],
      "metadata": {
        "id": "jLW4cTKN1atQ"
      }
    },
    {
      "cell_type": "markdown",
      "source": [
        "LINE PLOT\n",
        "\n",
        "**Visualize the change in TMDB popularity across years.**\n",
        "\n"
      ],
      "metadata": {
        "id": "YxZBvbB8Skcu"
      }
    },
    {
      "cell_type": "code",
      "source": [
        "plt.figure(figsize=(10,5))\n",
        "sns.lineplot(data=df, x='release_year', y='tmdb_popularity',color=\"green\")\n",
        "plt.show()"
      ],
      "metadata": {
        "id": "5U_CKlde8pPR"
      },
      "execution_count": null,
      "outputs": []
    },
    {
      "cell_type": "markdown",
      "source": [
        "##### 1. Why did you pick the specific chart?"
      ],
      "metadata": {
        "id": "X_VqEhTip1ck"
      }
    },
    {
      "cell_type": "markdown",
      "source": [
        "Line Plot was selected to show how popularity increased  with respect to years , as Line Chart clearly describes how one variable changes with respect to another variable"
      ],
      "metadata": {
        "id": "-vsMzt_np1ck"
      }
    },
    {
      "cell_type": "markdown",
      "source": [
        "##### 2. What is/are the insight(s) found from the chart?"
      ],
      "metadata": {
        "id": "8zGJKyg5p1ck"
      }
    },
    {
      "cell_type": "markdown",
      "source": [
        "* The popularity of movies or shows was relatively low and stable until the 1980s.\n",
        "\n",
        "* There are noticeable spikes in popularity around the late 1990s and early 2000s, possibly due to blockbuster movies or digital advancements.\n",
        "\n",
        "* A very sharp increase is seen post-2018, with an unusually high spike around 2022–2023, which may be due to increased streaming consumption, content diversification, or specific popular releases."
      ],
      "metadata": {
        "id": "ZYdMsrqVp1ck"
      }
    },
    {
      "cell_type": "markdown",
      "source": [
        "##### 3. Will the gained insights help creating a positive business impact?\n",
        "Are there any insights that lead to negative growth? Justify with specific reason."
      ],
      "metadata": {
        "id": "PVzmfK_Ep1ck"
      }
    },
    {
      "cell_type": "markdown",
      "source": [
        "The chart shows a steady rise in TMDb popularity, with a significant spike after 2018, peaking around 2022.\n",
        "This suggests increased viewer interest likely driven by streaming platforms and high-content demand.\n",
        "The insight helps businesses focus on recent trends, though earlier low engagement may hint at underutilized past opportunities.\n",
        "\n"
      ],
      "metadata": {
        "id": "druuKYZpp1ck"
      }
    },
    {
      "cell_type": "markdown",
      "source": [
        "#### Chart - 12"
      ],
      "metadata": {
        "id": "n3dbpmDWp1ck"
      }
    },
    {
      "cell_type": "markdown",
      "source": [
        "LINE CHART\n",
        "\n",
        "**How has the average runtime of movies evolved over the years?**"
      ],
      "metadata": {
        "id": "nWHTCwLlTGA2"
      }
    },
    {
      "cell_type": "code",
      "source": [
        "\n",
        "plt.figure(figsize=(10,5))\n",
        "sns.lineplot(data=df, x='release_year', y='runtime',color=\"green\")\n",
        "plt.show()"
      ],
      "metadata": {
        "id": "k1kNkVS49We8"
      },
      "execution_count": null,
      "outputs": []
    },
    {
      "cell_type": "markdown",
      "source": [
        "##### 1. Why did you pick the specific chart?"
      ],
      "metadata": {
        "id": "ylSl6qgtp1ck"
      }
    },
    {
      "cell_type": "markdown",
      "source": [
        "Line Chart effectively displays the trend of movie runtimes over time. This type of chart is ideal for visualizing how a continuous variable (runtime) changes over another continuous variable (release year), allowing us to observe fluctuations, patterns, and long-term trends in movie durations."
      ],
      "metadata": {
        "id": "m2xqNkiQp1ck"
      }
    },
    {
      "cell_type": "markdown",
      "source": [
        "##### 2. What is/are the insight(s) found from the chart?"
      ],
      "metadata": {
        "id": "ZWILFDl5p1ck"
      }
    },
    {
      "cell_type": "markdown",
      "source": [
        "* The average runtime of movies had a sharp spike around the early 1910s.\n",
        "\n",
        "* After that, there was a general drop, followed by fluctuations until around the 1950s.\n",
        "\n",
        "* From 1960 onward, the average runtime has remained relatively stable, generally having runtime  between 90 and 110 minutes.\n",
        "\n",
        "* There is a slight downward trend in average runtime in the most recent years (post-2010s)."
      ],
      "metadata": {
        "id": "x-lUsV2mp1ck"
      }
    },
    {
      "cell_type": "markdown",
      "source": [
        "##### 3. Will the gained insights help creating a positive business impact?\n",
        "Are there any insights that lead to negative growth? Justify with specific reason."
      ],
      "metadata": {
        "id": "M7G43BXep1ck"
      }
    },
    {
      "cell_type": "markdown",
      "source": [
        "The chart shows that average movie runtimes have generally stabilized between 90 to 110 minutes since the 1960s, with a notable dip in recent years. This suggests changing audience preferences, possibly favoring shorter content due to digital consumption habits. The insight helps businesses align production with modern trends, while longer runtimes in earlier eras hint at past audience expectations that may no longer be effective."
      ],
      "metadata": {
        "id": "5wwDJXsLp1cl"
      }
    },
    {
      "cell_type": "markdown",
      "source": [
        "#### Chart - 13"
      ],
      "metadata": {
        "id": "Ag9LCva-p1cl"
      }
    },
    {
      "cell_type": "markdown",
      "source": [
        "BAR PLOT\n",
        "\n"
      ],
      "metadata": {
        "id": "x4yAipDYTV8u"
      }
    },
    {
      "cell_type": "markdown",
      "source": [
        "**Show the TMDB score of shows and movies**"
      ],
      "metadata": {
        "id": "h4HUY-K-vJy0"
      }
    },
    {
      "cell_type": "code",
      "source": [
        "#i have ploted for my understanding\n",
        "plt.figure(figsize=(10,5))\n",
        "sns.barplot(data=df,x='role', y='imdb_votes')\n",
        "plt.xticks(rotation=45)\n",
        "plt.title(\"TMDB score of Shows and Movies\")\n",
        "plt.show()"
      ],
      "metadata": {
        "id": "41wi969N-SqB"
      },
      "execution_count": null,
      "outputs": []
    },
    {
      "cell_type": "markdown",
      "source": [
        "##### 1. Why did you pick the specific chart?"
      ],
      "metadata": {
        "id": "E6MkPsBcp1cl"
      }
    },
    {
      "cell_type": "markdown",
      "source": [
        "BOx Plot effectively visualizes the distribution and spread of numerical data  across different categories. It highlights key statistical measures like the median, interquartile range, and outliers. This allows us to easily compare how imdb_votes varies between movies involving actors versus directors."
      ],
      "metadata": {
        "id": "V22bRsFWp1cl"
      }
    },
    {
      "cell_type": "markdown",
      "source": [
        "##### 2. What is/are the insight(s) found from the chart?"
      ],
      "metadata": {
        "id": "2cELzS2fp1cl"
      }
    },
    {
      "cell_type": "markdown",
      "source": [
        "* Acctors have recieved highter imbd votes than that of directers .\n",
        "\n"
      ],
      "metadata": {
        "id": "ozQPc2_Ip1cl"
      }
    },
    {
      "cell_type": "markdown",
      "source": [
        "##### 3. Will the gained insights help creating a positive business impact?\n",
        "Are there any insights that lead to negative growth? Justify with specific reason."
      ],
      "metadata": {
        "id": "3MPXvC8up1cl"
      }
    },
    {
      "cell_type": "markdown",
      "source": [
        "The insights suggest that focusing on strong lead actors and analyzing role-based involvement can drive business strategies like content investment and marketing. However, high variance in audience engagement and over-reliance on specific roles may pose risks, potentially misguiding decisions without considering other factors like genre and production quality."
      ],
      "metadata": {
        "id": "GL8l1tdLp1cl"
      }
    },
    {
      "cell_type": "markdown",
      "source": [
        "#### CHART-14"
      ],
      "metadata": {
        "id": "yp0-tESMAOn7"
      }
    },
    {
      "cell_type": "markdown",
      "source": [
        "BOX plot"
      ],
      "metadata": {
        "id": "BQD1gkit3Mi7"
      }
    },
    {
      "cell_type": "markdown",
      "source": [
        "**Describe how different Genres are distributed over time**"
      ],
      "metadata": {
        "id": "eMQnUn3gQsGl"
      }
    },
    {
      "cell_type": "code",
      "source": [
        "plt.figure(figsize=(10,5))\n",
        "sns.boxplot(data=df,x='type', y='runtime')\n",
        "plt.xticks(rotation=45)\n",
        "plt.title(\"Distribution of Movie Runtime Across Genres\")\n"
      ],
      "metadata": {
        "id": "iESsq6Depn1j"
      },
      "execution_count": null,
      "outputs": []
    },
    {
      "cell_type": "markdown",
      "source": [
        "1. Why did you pick the specific chart?"
      ],
      "metadata": {
        "id": "ruAiyPk0RPV-"
      }
    },
    {
      "cell_type": "markdown",
      "source": [
        "Box PLot was chosen because it is ideal for visualizing the distribution of numerical data(runtime ) across different categories(type)"
      ],
      "metadata": {
        "id": "vt1rlLiSRQ4U"
      }
    },
    {
      "cell_type": "markdown",
      "source": [
        "2. What is/are the insight(s) found from the chart?"
      ],
      "metadata": {
        "id": "-W3o0yYETatn"
      }
    },
    {
      "cell_type": "markdown",
      "source": [
        "* Median of MOVIES is higher than that of SHOWS this shows Movies generally have longer runtimes than shows.\n",
        "* SHOWS have longer IQR than of MOVIES ,means most shows fall within a narrow runtime range.\n",
        "* Movies have significantly more outliers than Shows indicating some movies are much longer than others.\n"
      ],
      "metadata": {
        "id": "A1jIQSiVTcQS"
      }
    },
    {
      "cell_type": "markdown",
      "source": [
        "3. Will the gained insights help creating a positive business impact?\n",
        "Are there any insights that lead to negative growth? Justify with specific reason."
      ],
      "metadata": {
        "id": "tCdGshovUwtm"
      }
    },
    {
      "cell_type": "markdown",
      "source": [
        "the insights can create a positive business impact by helping platforms optimize content length based on user preferences—for example, promoting shorter shows for binge-watching audiences.\n",
        "Significant negative growth is observed, but longer movie runtimes with many outliers could lead to viewer drop-off if not managed properly."
      ],
      "metadata": {
        "id": "ICybsfbiUx3S"
      }
    },
    {
      "cell_type": "markdown",
      "source": [
        "#### Chart-15"
      ],
      "metadata": {
        "id": "lxasuudlAZ5b"
      }
    },
    {
      "cell_type": "markdown",
      "source": [
        "BAR CHART"
      ],
      "metadata": {
        "id": "zGTR94RD06zH"
      }
    },
    {
      "cell_type": "markdown",
      "source": [
        "**Using Bar chart show which content type has more imdb score**"
      ],
      "metadata": {
        "id": "MTrlXYh904XY"
      }
    },
    {
      "cell_type": "code",
      "source": [
        "plt.figure(figsize=(10,5))\n",
        "sns.barplot(data=df,x='type', y='imdb_score')\n",
        "plt.xticks(rotation=45)\n",
        "plt.title(\"Imdb score of shows and movies\")\n",
        "plt.show()"
      ],
      "metadata": {
        "id": "twiW1c7JqnVC"
      },
      "execution_count": null,
      "outputs": []
    },
    {
      "cell_type": "markdown",
      "source": [
        "1.Why did you pick the specific chart?"
      ],
      "metadata": {
        "id": "LG8s7xp6V99X"
      }
    },
    {
      "cell_type": "markdown",
      "source": [
        "it is the most effective way to compare different types of categortries"
      ],
      "metadata": {
        "id": "QO1H8MVsV0B3"
      }
    },
    {
      "cell_type": "markdown",
      "source": [
        "2- What is/are the insight(s) found from the chart?"
      ],
      "metadata": {
        "id": "Ugg7faxfWbyw"
      }
    },
    {
      "cell_type": "markdown",
      "source": [
        "* Shows has higher imdb_score than Movies, this shows Shows have better rating than Movies\n"
      ],
      "metadata": {
        "id": "bJ0B7FgNWdZb"
      }
    },
    {
      "cell_type": "markdown",
      "source": [
        "3-Will the gained insights help creating a positive business impact? Are there any insights that lead to negative growth? Justify with specific reason.\n"
      ],
      "metadata": {
        "id": "dVsZZs7Waw6O"
      }
    },
    {
      "cell_type": "markdown",
      "source": [
        "The insights can create a positive business impact by encouraging investment in SHOWs, which generally receive higher and more consistent IMDB scores—indicating better audience reception. However, the wider score variability and lower ratings in MOVIEs may lead to negative growth if not addressed, as inconsistent quality could reduce viewer trust and engagement."
      ],
      "metadata": {
        "id": "JcV3TlEOa-vz"
      }
    },
    {
      "cell_type": "markdown",
      "source": [],
      "metadata": {
        "id": "nXbt4XB9V_1a"
      }
    },
    {
      "cell_type": "markdown",
      "source": [
        "##### Chart 16"
      ],
      "metadata": {
        "id": "b7JIWU-JAh8f"
      }
    },
    {
      "cell_type": "markdown",
      "source": [
        "BAR chart"
      ],
      "metadata": {
        "id": "-ndw2_IU3EY1"
      }
    },
    {
      "cell_type": "markdown",
      "source": [
        "**Show the distribution of runtime across different content**"
      ],
      "metadata": {
        "id": "adX2_nN424Gx"
      }
    },
    {
      "cell_type": "code",
      "source": [
        "plt.figure(figsize=(10,5))\n",
        "sns.barplot(data=df,x='type', y='runtime')\n",
        "plt.xticks(rotation=45)\n",
        "plt.title(\"Distribution of Movie Runtime Across Movies and Shows\")\n",
        "plt.show()"
      ],
      "metadata": {
        "id": "SOM3tN1RrWW5"
      },
      "execution_count": null,
      "outputs": []
    },
    {
      "cell_type": "markdown",
      "source": [
        "1.Why did you pick the specific chart?"
      ],
      "metadata": {
        "id": "OYCMmlYef9xQ"
      }
    },
    {
      "cell_type": "markdown",
      "source": [
        "it is the most effective way to compare the average movie runtime across different types of content"
      ],
      "metadata": {
        "id": "g3Ld8eXRghiA"
      }
    },
    {
      "cell_type": "markdown",
      "source": [],
      "metadata": {
        "id": "-t9BGm_yiqLW"
      }
    },
    {
      "cell_type": "markdown",
      "source": [
        "2- What is/are the insight(s) found from the chart?"
      ],
      "metadata": {
        "id": "inoGrV3tizaN"
      }
    },
    {
      "cell_type": "markdown",
      "source": [
        "* Movies have a significantly higher average runtime compared to Shows.\n",
        "\n",
        "* Shows tend to have a shorter average runtime, possibly because they consist of multiple episodes, each with a shorter duration, while movies are single, longer-form content."
      ],
      "metadata": {
        "id": "sBWexPEOi0PW"
      }
    },
    {
      "cell_type": "markdown",
      "source": [
        "3-Will the gained insights help creating a positive business impact? Are there any insights that lead to negative growth? Justify with specific reason."
      ],
      "metadata": {
        "id": "5BE1vwYTjSci"
      }
    },
    {
      "cell_type": "markdown",
      "source": [
        "The insights show that movies have a longer average runtime than shows, which can guide content scheduling and user engagement strategies. This can create a positive business impact by aligning content with viewer preferences. However, over-prioritizing runtime over quality may lead to negative viewer experiences."
      ],
      "metadata": {
        "id": "o_Q9plBulDwu"
      }
    },
    {
      "cell_type": "markdown",
      "source": [
        "#### Chart 17"
      ],
      "metadata": {
        "id": "FjydsJ69Ak9c"
      }
    },
    {
      "cell_type": "markdown",
      "source": [
        "  BAR PLOT"
      ],
      "metadata": {
        "id": "haIApgpDkeHR"
      }
    },
    {
      "cell_type": "markdown",
      "source": [
        "**Which country's TV shows and films are most widely viewed?**"
      ],
      "metadata": {
        "id": "m5ROuX_xk8g4"
      }
    },
    {
      "cell_type": "code",
      "source": [
        "plt.figure(figsize=(10, 5))\n",
        "# Get the top 10 production countries based on tmdb_popularity\n",
        "top_10_countries = df.groupby('production_countries')['tmdb_popularity'].sum().nlargest(10).index\n",
        "# Filter the DataFrame to include only the top 10 countries\n",
        "filtered_df = df[df['production_countries'].isin(top_10_countries)]\n",
        "# Create the bar plot\n",
        "sns.barplot(data=filtered_df, x='production_countries', y='tmdb_popularity')\n",
        "plt.xticks(rotation=45, ha='right')  # Rotate x-axis labels for better readability\n",
        "plt.title(\"Top 10 Production Countries by TMDB Popularity\")\n",
        "plt.tight_layout()  # Adjust layout to prevent labels from overlapping\n",
        "plt.show()"
      ],
      "metadata": {
        "id": "AnK5tYrKrqM2"
      },
      "execution_count": null,
      "outputs": []
    },
    {
      "cell_type": "markdown",
      "source": [
        "1.Why did you pick the specific chart?"
      ],
      "metadata": {
        "id": "Z3tSubcSl5Dq"
      }
    },
    {
      "cell_type": "markdown",
      "source": [
        "Bar charts are excellent for comparing values across categories. Here, it allows us to easily compare the TMDB popularity scores of the top 10 production countries."
      ],
      "metadata": {
        "id": "7KU-wU0ul6Jz"
      }
    },
    {
      "cell_type": "markdown",
      "source": [
        "2- What is/are the insight(s) found from the chart?"
      ],
      "metadata": {
        "id": "441qCg-2mqq6"
      }
    },
    {
      "cell_type": "markdown",
      "source": [
        "* United States and Japan have significantly higher tmdb popularity compared to all other countries.This suggests that the majority of popular content on TMDB is produced in the US and Japan.\n",
        "* While the US and Japan  leads, countries like India (IN), United Kingdom (GB), and Canada (CA) also appear, showing a global contribution to popular content, albeit at a smaller scale."
      ],
      "metadata": {
        "id": "qWOji7ypmsSV"
      }
    },
    {
      "cell_type": "markdown",
      "source": [
        "3-Will the gained insights help creating a positive business impact? Are there any insights that lead to negative growth? Justify with specific reason."
      ],
      "metadata": {
        "id": "M7uTh5BFo7ZM"
      }
    },
    {
      "cell_type": "markdown",
      "source": [
        "The insights show that the US and Japan  dominates in TMDB popularity, which suggests that focusing on US and Japan-based or collaborative productions can increase global viewership and drive business growth. This can create a positive impact by aligning content strategy with audience demand. However, over-reliance on US and Japan  content may limit regional diversity and lead to missed opportunities in other growing markets."
      ],
      "metadata": {
        "id": "Beq6Iy16osAg"
      }
    },
    {
      "cell_type": "markdown",
      "source": [
        "BAR PLOT"
      ],
      "metadata": {
        "id": "uM_G6q7pqSzv"
      }
    },
    {
      "cell_type": "markdown",
      "source": [
        "Chart 18"
      ],
      "metadata": {
        "id": "Qg-K5CJfqj1v"
      }
    },
    {
      "cell_type": "markdown",
      "source": [
        "**Show the content type with the highest number of seasons using a bar chart.**"
      ],
      "metadata": {
        "id": "6L647RYaqVKP"
      }
    },
    {
      "cell_type": "code",
      "source": [
        "plt.figure(figsize=(10,5))\n",
        "sns.barplot(data=df,x='type', y='seasons')\n",
        "plt.xticks(rotation=45)\n",
        "plt.title(\"Seasons in Shows and Movies\")\n",
        "plt.show()"
      ],
      "metadata": {
        "id": "GAkcuxQZs6zT"
      },
      "execution_count": null,
      "outputs": []
    },
    {
      "cell_type": "markdown",
      "source": [
        "1.Why did you pick the specific chart?"
      ],
      "metadata": {
        "id": "aCfVaSE5qxCg"
      }
    },
    {
      "cell_type": "markdown",
      "source": [
        "A bar chart is ideal for comparing categorical data, and in this case, it helps quickly identify which content type has the highest average number of seasons."
      ],
      "metadata": {
        "id": "9rsAA3_Eq5L_"
      }
    },
    {
      "cell_type": "markdown",
      "source": [
        "2- What is/are the insight(s) found from the chart?"
      ],
      "metadata": {
        "id": "NmjBJaJErGp4"
      }
    },
    {
      "cell_type": "markdown",
      "source": [
        "* The chart shows that Shows have a significantly higher average number of seasons compared to Movies, which have much fewer. This makes sense because movies are typically one-time content, while shows often span multiple seasons.\n",
        "\n",
        "* This insight highlights that shows tend to offer longer-term content engagement."
      ],
      "metadata": {
        "id": "rvN5FJJ5rSbd"
      }
    },
    {
      "cell_type": "markdown",
      "source": [
        "3-Will the gained insights help creating a positive business impact? Are there any insights that lead to negative growth? Justify with specific reason."
      ],
      "metadata": {
        "id": "-Tq_HylErpBe"
      }
    },
    {
      "cell_type": "markdown",
      "source": [
        "The insight supports investing in shows for longer viewer engagement, leading to positive business impact, with no indication of negative growth."
      ],
      "metadata": {
        "id": "rszvwD4vrqBw"
      }
    },
    {
      "cell_type": "markdown",
      "source": [
        "#### Chart - 19"
      ],
      "metadata": {
        "id": "NC_X3p0fY2L0"
      }
    },
    {
      "cell_type": "markdown",
      "source": [
        "PAIR PLOT"
      ],
      "metadata": {
        "id": "AYnSDmdLtmmd"
      }
    },
    {
      "cell_type": "code",
      "source": [
        "#PAirPLot\n",
        "plt.figure(figsize=(10,5))\n",
        "sns.pairplot(df)"
      ],
      "metadata": {
        "id": "dgRVbGGBsPm8"
      },
      "execution_count": null,
      "outputs": []
    },
    {
      "cell_type": "markdown",
      "source": [
        "##### 1. Why did you pick the specific chart?"
      ],
      "metadata": {
        "id": "UV0SzAkaZNRQ"
      }
    },
    {
      "cell_type": "markdown",
      "source": [
        "A pair plot was chosen to explore relationships between multiple numeric features and detect patterns, correlations, and outliers."
      ],
      "metadata": {
        "id": "DVPuT8LYZNRQ"
      }
    },
    {
      "cell_type": "markdown",
      "source": [
        "##### 2. What is/are the insight(s) found from the chart?"
      ],
      "metadata": {
        "id": "YPEH6qLeZNRQ"
      }
    },
    {
      "cell_type": "markdown",
      "source": [
        "* The pair plot reveals a strong correlation between IMDb votes and scores, indicating that widely reviewed content tends to be better rated.\n",
        "\n",
        "* TMDb popularity also shows a mild positive trend with TMDb scores.\n",
        "\n",
        "*  While runtime and release year show high variability without clear trends, they highlight the diversity in content, suggesting opportunities for personalized recommendations and content segmentation."
      ],
      "metadata": {
        "id": "bfSqtnDqZNRR"
      }
    },
    {
      "cell_type": "markdown",
      "source": [
        "#### Chart-20"
      ],
      "metadata": {
        "id": "q29F0dvdveiT"
      }
    },
    {
      "cell_type": "markdown",
      "source": [
        "HEAT-MAP"
      ],
      "metadata": {
        "id": "vgZrbdCftqoh"
      }
    },
    {
      "cell_type": "code",
      "source": [
        "#Heatmap\n",
        "plt.figure(figsize=(10,6))\n",
        "sns.heatmap(numeric_cols.corr(),annot=True,cmap='GnBu')\n",
        "plt.show()\n"
      ],
      "metadata": {
        "id": "o58-TEIhveiU"
      },
      "execution_count": null,
      "outputs": []
    },
    {
      "cell_type": "markdown",
      "source": [
        "##### 1. Why did you pick the specific chart?"
      ],
      "metadata": {
        "id": "EXh0U9oCveiU"
      }
    },
    {
      "cell_type": "markdown",
      "source": [
        "The heatmap was chosen because it is an excellent way to visually represent the correlation between multiple numerical variables in a grid format."
      ],
      "metadata": {
        "id": "eMmPjTByveiU"
      }
    },
    {
      "cell_type": "markdown",
      "source": [
        "##### 2. What is/are the insight(s) found from the chart?"
      ],
      "metadata": {
        "id": "22aHeOlLveiV"
      }
    },
    {
      "cell_type": "markdown",
      "source": [
        "* imdb_score has a moderate positive correlation (0.6) with tmdb_score, which makes sense as both are scoring systems evaluating content.\n",
        "\n",
        "* imdb_votes also shows positive correlation with both imdb_score (0.26) and tmdb_score (0.22), indicating that more voted content might have higher scores.\n",
        "\n",
        "* runtime, seasons, and release_year show weak correlations with most variables, suggesting they may not strongly influence ratings or popularity.\n",
        "\n",
        "* There is no strong multicollinearity, as most correlation values are low to moderate, making it safer to use multiple features in a model."
      ],
      "metadata": {
        "id": "uPQ8RGwHveiV"
      }
    },
    {
      "cell_type": "markdown",
      "source": [
        "## **5. Solution to Business Objective**"
      ],
      "metadata": {
        "id": "JcMwzZxoAimU"
      }
    },
    {
      "cell_type": "markdown",
      "source": [
        "#### What do you suggest the client to achieve Business Objective ?\n",
        "Explain Briefly."
      ],
      "metadata": {
        "id": "8G2x9gOozGDZ"
      }
    },
    {
      "cell_type": "markdown",
      "source": [
        "Solution to Business Objective To increase user engagement and satisfaction on Amazon Prime Video, based on the EDA findings:\n",
        "\n",
        "* Leverage recent releases – Promote and prioritize movies released after 2020, as they dominate the platform and align with current user interest.\n",
        "\n",
        "* Diversify content types – Add more TV shows to balance with the high number of movies and boost long-term engagement.\n",
        "\n",
        "* Expand genre variety – Introduce more niche genres like Sci-Fi, Documentary, and Horror to attract a wider audience.\n",
        "\n",
        "* Offer content for all age groups – Ensure a mix of family-friendly and mature content based on ratings analysis.\n",
        "\n",
        "* Enhance regional content – Invest more in content from countries like India and the UK to attract global viewers.\n",
        "\n",
        "* Monitor content performance – Regularly analyze viewer behavior to keep improving recommendations and content strategy."
      ],
      "metadata": {
        "id": "pASKb0qOza21"
      }
    },
    {
      "cell_type": "markdown",
      "source": [
        "# **Conclusion**"
      ],
      "metadata": {
        "id": "gCX9965dhzqZ"
      }
    },
    {
      "cell_type": "markdown",
      "source": [
        "* Amazon Prime should increase the number of high-quality TV shows, as they offer stronger viewer engagement and longer watch time. Combining this with strategic genre expansion, localization, and personalized recommendations will help drive higher user satisfaction and retention.\n",
        "\n",
        "* Popular genres like Drama, Comedy, and Action dominate, but there is room for expanding into niche genres to attract diverse viewers.\n",
        "\n",
        "* The platform features a large volume of content released after 2020, highlighting a strategy focused on modern and up-to-date offerings.\n"
      ],
      "metadata": {
        "id": "Fjb1IsQkh3yE"
      }
    },
    {
      "cell_type": "markdown",
      "source": [
        "### ***Hurrah! You have successfully completed your EDA Capstone Project !!!***"
      ],
      "metadata": {
        "id": "gIfDvo9L0UH2"
      }
    }
  ]
}